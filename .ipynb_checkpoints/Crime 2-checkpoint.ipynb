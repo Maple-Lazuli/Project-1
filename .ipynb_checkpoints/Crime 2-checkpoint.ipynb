{
 "cells": [
  {
   "cell_type": "code",
   "execution_count": 1,
   "id": "seventh-barrier",
   "metadata": {},
   "outputs": [],
   "source": [
    "import numpy as np\n",
    "import pandas as pd\n",
    "import matplotlib.pyplot as plt\n",
    "from sklearn.linear_model import LinearRegression\n",
    "from sklearn.model_selection import train_test_split\n",
    "from sklearn.metrics import r2_score, mean_squared_error\n",
    "import AllTogether as t\n",
    "import seaborn as sns\n",
    "%matplotlib inline\n",
    "\n",
    "#DataSets for analysis\n",
    "#source: https://hub.arcgis.com/datasets/6afda9afb9f94e27adf39d36e119eb29_2\n",
    "demo_df= pd.read_csv('./Census_demographics_by_County.csv')\n",
    "#source: https://hub.arcgis.com/datasets/utah::us-states\n",
    "demo_state_df = pd.read_csv(\"./US_States.csv\")\n",
    "#source: https://www.kaggle.com/mikejohnsonjr/united-states-crime-rates-by-county\n",
    "crime_df = pd.read_csv('./crime_data_w_population_and_crime_rate.csv')"
   ]
  },
  {
   "cell_type": "code",
   "execution_count": 2,
   "id": "intensive-bearing",
   "metadata": {},
   "outputs": [
    {
     "data": {
      "text/html": [
       "<div>\n",
       "<style scoped>\n",
       "    .dataframe tbody tr th:only-of-type {\n",
       "        vertical-align: middle;\n",
       "    }\n",
       "\n",
       "    .dataframe tbody tr th {\n",
       "        vertical-align: top;\n",
       "    }\n",
       "\n",
       "    .dataframe thead th {\n",
       "        text-align: right;\n",
       "    }\n",
       "</style>\n",
       "<table border=\"1\" class=\"dataframe\">\n",
       "  <thead>\n",
       "    <tr style=\"text-align: right;\">\n",
       "      <th></th>\n",
       "      <th>county_name</th>\n",
       "      <th>crime_rate_per_100000</th>\n",
       "      <th>index</th>\n",
       "      <th>EDITION</th>\n",
       "      <th>PART</th>\n",
       "      <th>IDNO</th>\n",
       "      <th>CPOPARST</th>\n",
       "      <th>CPOPCRIM</th>\n",
       "      <th>AG_ARRST</th>\n",
       "      <th>AG_OFF</th>\n",
       "      <th>...</th>\n",
       "      <th>RAPE</th>\n",
       "      <th>ROBBERY</th>\n",
       "      <th>AGASSLT</th>\n",
       "      <th>BURGLRY</th>\n",
       "      <th>LARCENY</th>\n",
       "      <th>MVTHEFT</th>\n",
       "      <th>ARSON</th>\n",
       "      <th>population</th>\n",
       "      <th>FIPS_ST</th>\n",
       "      <th>FIPS_CTY</th>\n",
       "    </tr>\n",
       "  </thead>\n",
       "  <tbody>\n",
       "    <tr>\n",
       "      <th>0</th>\n",
       "      <td>St. Louis city, MO</td>\n",
       "      <td>1791.995377</td>\n",
       "      <td>1</td>\n",
       "      <td>1</td>\n",
       "      <td>4</td>\n",
       "      <td>1612</td>\n",
       "      <td>318667</td>\n",
       "      <td>318667</td>\n",
       "      <td>15</td>\n",
       "      <td>15</td>\n",
       "      <td>...</td>\n",
       "      <td>200</td>\n",
       "      <td>1778</td>\n",
       "      <td>3609</td>\n",
       "      <td>4995</td>\n",
       "      <td>13791</td>\n",
       "      <td>3543</td>\n",
       "      <td>464</td>\n",
       "      <td>318416</td>\n",
       "      <td>29</td>\n",
       "      <td>510</td>\n",
       "    </tr>\n",
       "    <tr>\n",
       "      <th>1</th>\n",
       "      <td>Crittenden County, AR</td>\n",
       "      <td>1754.914968</td>\n",
       "      <td>2</td>\n",
       "      <td>1</td>\n",
       "      <td>4</td>\n",
       "      <td>130</td>\n",
       "      <td>50717</td>\n",
       "      <td>50717</td>\n",
       "      <td>4</td>\n",
       "      <td>4</td>\n",
       "      <td>...</td>\n",
       "      <td>38</td>\n",
       "      <td>165</td>\n",
       "      <td>662</td>\n",
       "      <td>1482</td>\n",
       "      <td>1753</td>\n",
       "      <td>189</td>\n",
       "      <td>28</td>\n",
       "      <td>49746</td>\n",
       "      <td>5</td>\n",
       "      <td>35</td>\n",
       "    </tr>\n",
       "  </tbody>\n",
       "</table>\n",
       "<p>2 rows × 24 columns</p>\n",
       "</div>"
      ],
      "text/plain": [
       "             county_name  crime_rate_per_100000  index  EDITION  PART  IDNO  \\\n",
       "0     St. Louis city, MO            1791.995377      1        1     4  1612   \n",
       "1  Crittenden County, AR            1754.914968      2        1     4   130   \n",
       "\n",
       "   CPOPARST  CPOPCRIM  AG_ARRST  AG_OFF  ...  RAPE  ROBBERY  AGASSLT  BURGLRY  \\\n",
       "0    318667    318667        15      15  ...   200     1778     3609     4995   \n",
       "1     50717     50717         4       4  ...    38      165      662     1482   \n",
       "\n",
       "   LARCENY  MVTHEFT  ARSON  population  FIPS_ST  FIPS_CTY  \n",
       "0    13791     3543    464      318416       29       510  \n",
       "1     1753      189     28       49746        5        35  \n",
       "\n",
       "[2 rows x 24 columns]"
      ]
     },
     "execution_count": 2,
     "metadata": {},
     "output_type": "execute_result"
    }
   ],
   "source": [
    "crime_df.head(2)"
   ]
  },
  {
   "cell_type": "code",
   "execution_count": 3,
   "id": "chief-seventh",
   "metadata": {},
   "outputs": [
    {
     "data": {
      "text/html": [
       "<div>\n",
       "<style scoped>\n",
       "    .dataframe tbody tr th:only-of-type {\n",
       "        vertical-align: middle;\n",
       "    }\n",
       "\n",
       "    .dataframe tbody tr th {\n",
       "        vertical-align: top;\n",
       "    }\n",
       "\n",
       "    .dataframe thead th {\n",
       "        text-align: right;\n",
       "    }\n",
       "</style>\n",
       "<table border=\"1\" class=\"dataframe\">\n",
       "  <thead>\n",
       "    <tr style=\"text-align: right;\">\n",
       "      <th></th>\n",
       "      <th>OBJECTID</th>\n",
       "      <th>STATE</th>\n",
       "      <th>STCN</th>\n",
       "      <th>CNTYNAME</th>\n",
       "      <th>AREALAND</th>\n",
       "      <th>AREAWATER</th>\n",
       "      <th>TOTALPOP</th>\n",
       "      <th>POP_DEN</th>\n",
       "      <th>NUM_MINORITY</th>\n",
       "      <th>PCT_MINORITY</th>\n",
       "      <th>...</th>\n",
       "      <th>EMP_STAT_NOT_IN_LF</th>\n",
       "      <th>PCT_EMP_STAT_NOT_IN_LF</th>\n",
       "      <th>Shape_Length</th>\n",
       "      <th>Shape_Area</th>\n",
       "      <th>FBPOP</th>\n",
       "      <th>EUROPE</th>\n",
       "      <th>ASIA</th>\n",
       "      <th>AFRICA</th>\n",
       "      <th>OCEANIA</th>\n",
       "      <th>AMERICAS</th>\n",
       "    </tr>\n",
       "  </thead>\n",
       "  <tbody>\n",
       "    <tr>\n",
       "      <th>0</th>\n",
       "      <td>1</td>\n",
       "      <td>1</td>\n",
       "      <td>1001</td>\n",
       "      <td>Autauga County</td>\n",
       "      <td>1539584444</td>\n",
       "      <td>25773561</td>\n",
       "      <td>55136</td>\n",
       "      <td>92.753326</td>\n",
       "      <td>13103</td>\n",
       "      <td>23.764872</td>\n",
       "      <td>...</td>\n",
       "      <td>15561</td>\n",
       "      <td>36.603782</td>\n",
       "      <td>2.052620</td>\n",
       "      <td>0.150260</td>\n",
       "      <td>772.0</td>\n",
       "      <td>141.0</td>\n",
       "      <td>150.0</td>\n",
       "      <td>0.0</td>\n",
       "      <td>119.0</td>\n",
       "      <td>362.0</td>\n",
       "    </tr>\n",
       "    <tr>\n",
       "      <th>1</th>\n",
       "      <td>2</td>\n",
       "      <td>1</td>\n",
       "      <td>1005</td>\n",
       "      <td>Barbour County</td>\n",
       "      <td>2291820953</td>\n",
       "      <td>50864677</td>\n",
       "      <td>27119</td>\n",
       "      <td>30.647195</td>\n",
       "      <td>14614</td>\n",
       "      <td>53.888418</td>\n",
       "      <td>...</td>\n",
       "      <td>11086</td>\n",
       "      <td>50.736842</td>\n",
       "      <td>2.566611</td>\n",
       "      <td>0.223256</td>\n",
       "      <td>769.0</td>\n",
       "      <td>14.0</td>\n",
       "      <td>169.0</td>\n",
       "      <td>0.0</td>\n",
       "      <td>0.0</td>\n",
       "      <td>586.0</td>\n",
       "    </tr>\n",
       "  </tbody>\n",
       "</table>\n",
       "<p>2 rows × 266 columns</p>\n",
       "</div>"
      ],
      "text/plain": [
       "   OBJECTID  STATE  STCN        CNTYNAME    AREALAND  AREAWATER  TOTALPOP  \\\n",
       "0         1      1  1001  Autauga County  1539584444   25773561     55136   \n",
       "1         2      1  1005  Barbour County  2291820953   50864677     27119   \n",
       "\n",
       "     POP_DEN  NUM_MINORITY  PCT_MINORITY  ...  EMP_STAT_NOT_IN_LF  \\\n",
       "0  92.753326         13103     23.764872  ...               15561   \n",
       "1  30.647195         14614     53.888418  ...               11086   \n",
       "\n",
       "   PCT_EMP_STAT_NOT_IN_LF  Shape_Length  Shape_Area  FBPOP  EUROPE   ASIA  \\\n",
       "0               36.603782      2.052620    0.150260  772.0   141.0  150.0   \n",
       "1               50.736842      2.566611    0.223256  769.0    14.0  169.0   \n",
       "\n",
       "   AFRICA  OCEANIA  AMERICAS  \n",
       "0     0.0    119.0     362.0  \n",
       "1     0.0      0.0     586.0  \n",
       "\n",
       "[2 rows x 266 columns]"
      ]
     },
     "execution_count": 3,
     "metadata": {},
     "output_type": "execute_result"
    }
   ],
   "source": [
    "demo_df.head(2)"
   ]
  },
  {
   "cell_type": "code",
   "execution_count": 4,
   "id": "electoral-sight",
   "metadata": {},
   "outputs": [
    {
     "data": {
      "text/html": [
       "<div>\n",
       "<style scoped>\n",
       "    .dataframe tbody tr th:only-of-type {\n",
       "        vertical-align: middle;\n",
       "    }\n",
       "\n",
       "    .dataframe tbody tr th {\n",
       "        vertical-align: top;\n",
       "    }\n",
       "\n",
       "    .dataframe thead th {\n",
       "        text-align: right;\n",
       "    }\n",
       "</style>\n",
       "<table border=\"1\" class=\"dataframe\">\n",
       "  <thead>\n",
       "    <tr style=\"text-align: right;\">\n",
       "      <th></th>\n",
       "      <th>OBJECTID_1</th>\n",
       "      <th>OBJECTID</th>\n",
       "      <th>STATE_NAME</th>\n",
       "      <th>STATE_FIPS</th>\n",
       "      <th>STATE_ABBR</th>\n",
       "      <th>SHAPE_Length</th>\n",
       "      <th>SHAPE_Area</th>\n",
       "    </tr>\n",
       "  </thead>\n",
       "  <tbody>\n",
       "    <tr>\n",
       "      <th>0</th>\n",
       "      <td>1</td>\n",
       "      <td>NaN</td>\n",
       "      <td>Alabama</td>\n",
       "      <td>1</td>\n",
       "      <td>AL</td>\n",
       "      <td>20.554796</td>\n",
       "      <td>12.881818</td>\n",
       "    </tr>\n",
       "    <tr>\n",
       "      <th>1</th>\n",
       "      <td>2</td>\n",
       "      <td>NaN</td>\n",
       "      <td>Alaska</td>\n",
       "      <td>2</td>\n",
       "      <td>AK</td>\n",
       "      <td>318.661159</td>\n",
       "      <td>167.784052</td>\n",
       "    </tr>\n",
       "  </tbody>\n",
       "</table>\n",
       "</div>"
      ],
      "text/plain": [
       "   OBJECTID_1  OBJECTID STATE_NAME  STATE_FIPS STATE_ABBR  SHAPE_Length  \\\n",
       "0           1       NaN    Alabama           1         AL     20.554796   \n",
       "1           2       NaN     Alaska           2         AK    318.661159   \n",
       "\n",
       "   SHAPE_Area  \n",
       "0   12.881818  \n",
       "1  167.784052  "
      ]
     },
     "execution_count": 4,
     "metadata": {},
     "output_type": "execute_result"
    }
   ],
   "source": [
    "demo_state_df.head(2)"
   ]
  },
  {
   "cell_type": "code",
   "execution_count": 5,
   "id": "baking-humanity",
   "metadata": {},
   "outputs": [
    {
     "name": "stderr",
     "output_type": "stream",
     "text": [
      "<ipython-input-5-1dfa1662d4ef>:7: SettingWithCopyWarning: \n",
      "A value is trying to be set on a copy of a slice from a DataFrame\n",
      "\n",
      "See the caveats in the documentation: https://pandas.pydata.org/pandas-docs/stable/user_guide/indexing.html#returning-a-view-versus-a-copy\n",
      "  demo_df['STATE'][name] = demo_state_df['STATE_ABBR'][stateCode]\n",
      "/home/ada/pythonJupyter/jupyterenvironment/lib/python3.8/site-packages/pandas/core/indexing.py:1637: SettingWithCopyWarning: \n",
      "A value is trying to be set on a copy of a slice from a DataFrame\n",
      "\n",
      "See the caveats in the documentation: https://pandas.pydata.org/pandas-docs/stable/user_guide/indexing.html#returning-a-view-versus-a-copy\n",
      "  self._setitem_single_block(indexer, value, name)\n"
     ]
    }
   ],
   "source": [
    "#Use demo_state_df to recover the states in demo_df\n",
    "\n",
    "#Match on the state numeric code\n",
    "for name in range(len(demo_df['STATE'])):\n",
    "    for stateCode in range(len(demo_state_df['STATE_FIPS'])):\n",
    "        if(demo_df['STATE'][name] == demo_state_df['STATE_FIPS'][stateCode]):\n",
    "            demo_df['STATE'][name] = demo_state_df['STATE_ABBR'][stateCode]"
   ]
  },
  {
   "cell_type": "code",
   "execution_count": 6,
   "id": "configured-question",
   "metadata": {},
   "outputs": [
    {
     "name": "stderr",
     "output_type": "stream",
     "text": [
      "<ipython-input-6-3bc2aae1c169>:3: SettingWithCopyWarning: \n",
      "A value is trying to be set on a copy of a slice from a DataFrame\n",
      "\n",
      "See the caveats in the documentation: https://pandas.pydata.org/pandas-docs/stable/user_guide/indexing.html#returning-a-view-versus-a-copy\n",
      "  crime_df['county_name'][name] = crime_df['county_name'][name].split(\",\")\n"
     ]
    }
   ],
   "source": [
    "#Split string on comma and turn into a list. Needed for matching later.\n",
    "for name in range(len(crime_df['county_name'])):\n",
    "    crime_df['county_name'][name] = crime_df['county_name'][name].split(\",\")\n",
    "    crime_df['county_name'][name][1] = crime_df['county_name'][name][1].strip()"
   ]
  },
  {
   "cell_type": "code",
   "execution_count": 7,
   "id": "exterior-arnold",
   "metadata": {},
   "outputs": [],
   "source": [
    "# Add columns for matching\n",
    "crime_df.insert(0,\"JoinColumn\", [np.nan] * crime_df.shape[0], True )\n",
    "demo_df.insert(0,\"JoinColumn\", [np.nan] * demo_df.shape[0], True )"
   ]
  },
  {
   "cell_type": "code",
   "execution_count": 8,
   "id": "democratic-magnet",
   "metadata": {},
   "outputs": [
    {
     "name": "stderr",
     "output_type": "stream",
     "text": [
      "<ipython-input-8-bb558d746821>:8: SettingWithCopyWarning: \n",
      "A value is trying to be set on a copy of a slice from a DataFrame\n",
      "\n",
      "See the caveats in the documentation: https://pandas.pydata.org/pandas-docs/stable/user_guide/indexing.html#returning-a-view-versus-a-copy\n",
      "  crime_df['JoinColumn'][x] = numEqual\n",
      "<ipython-input-8-bb558d746821>:9: SettingWithCopyWarning: \n",
      "A value is trying to be set on a copy of a slice from a DataFrame\n",
      "\n",
      "See the caveats in the documentation: https://pandas.pydata.org/pandas-docs/stable/user_guide/indexing.html#returning-a-view-versus-a-copy\n",
      "  demo_df['JoinColumn'][y] = numEqual\n"
     ]
    }
   ],
   "source": [
    "# Match based on the county name and the state\n",
    "numEqual = 0\n",
    "for x in range(len(crime_df['county_name'])):\n",
    "    for y in range(len(demo_df['CNTYNAME'])):\n",
    "        if crime_df['county_name'][x][0] == demo_df['CNTYNAME'][y]:\n",
    "            if(crime_df['county_name'][x][1] == demo_df['STATE'][y]):\n",
    "                numEqual += 1\n",
    "                crime_df['JoinColumn'][x] = numEqual\n",
    "                demo_df['JoinColumn'][y] = numEqual"
   ]
  },
  {
   "cell_type": "code",
   "execution_count": 9,
   "id": "funded-habitat",
   "metadata": {},
   "outputs": [
    {
     "name": "stdout",
     "output_type": "stream",
     "text": [
      "3135\n",
      "(3136, 25)\n",
      "(3220, 267)\n",
      "(3135, 25)\n",
      "(3135, 267)\n"
     ]
    }
   ],
   "source": [
    "#Show the number of matches                \n",
    "print(numEqual)\n",
    "print(crime_df.shape)\n",
    "print(demo_df.shape)\n",
    "#Drop Columns that did not have a match\n",
    "crime_df_dropped = crime_df.dropna(subset=['JoinColumn'], how = 'any')\n",
    "demo_df_dropped = demo_df.dropna(subset=['JoinColumn'], how = 'any')\n",
    "#Show the number of matches in each data frame\n",
    "#Note that they are the same size, there were not any duplicate matches\n",
    "print(crime_df_dropped.shape)\n",
    "print(demo_df_dropped.shape)"
   ]
  },
  {
   "cell_type": "code",
   "execution_count": 10,
   "id": "aquatic-jimmy",
   "metadata": {},
   "outputs": [],
   "source": [
    "\n",
    "#Columns that are not to be used in the modeling and will be dropped.\n",
    "dropList = ['JoinColumn','county_name', 'EDITION', 'PART', 'IDNO', 'INDEX', 'FIPS_ST', 'FIPS_CTY','OBJECTID', 'STATE', 'STCN', 'CNTYNAME']\n",
    "\n",
    "#Join on the matches\n",
    "joinedDF = crime_df_dropped.merge(demo_df_dropped, on='JoinColumn')\n",
    "\n",
    "#Subset by county based on potential living city locations\n",
    "columbia = joinedDF[joinedDF['STATE'] =='MD'].copy()\n",
    "columbia = columbia[columbia['CNTYNAME'] == \"Howard County\"]\n",
    "\n",
    "odenton = joinedDF[joinedDF['STATE'] =='MD'].copy()\n",
    "odenton = odenton[odenton['CNTYNAME'] == \"Anne Arundel County\"]\n",
    "\n",
    "glen_burnie = joinedDF[joinedDF['STATE'] =='MD'].copy()\n",
    "glen_burnie = glen_burnie[glen_burnie['CNTYNAME'] == \"Anne Arundel County\"]\n",
    "\n",
    "hanover = joinedDF[joinedDF['STATE'] =='MD'].copy()\n",
    "hanover = hanover[hanover['CNTYNAME'] == \"Anne Arundel County\"]\n",
    "\n",
    "#Drop unneccessary columns\n",
    "columbia = columbia.drop(dropList, axis =1)\n",
    "odenton = odenton.drop(dropList, axis =1)\n",
    "glen_burnie = glen_burnie.drop(dropList, axis =1)\n",
    "hanover = hanover.drop(dropList, axis =1)\n",
    "joinedDF = joinedDF.drop(dropList, axis =1)\n",
    "\n",
    "# Population in 2019\n",
    "# Used for imputation\n",
    "howardCountyPop = 325690\n",
    "columbiaPop = 103991\n",
    "anneArundelPop = 579234\n",
    "odentonPop = 41846\n",
    "glen_burniePop = 69872\n",
    "hanoverPop = 12952\n",
    "\n",
    "def imputeSubset(df, portion):\n",
    "    for column in df.columns:\n",
    "        if np.issubdtype(df.dtypes[column], np.number):\n",
    "                df[column] = df[column] * portion\n",
    "                \n",
    "#Impute values for the cities from their county\n",
    "imputeSubset(columbia, columbiaPop / howardCountyPop)\n",
    "imputeSubset(odenton, odentonPop / anneArundelPop)\n",
    "imputeSubset(glen_burnie, glen_burniePop / anneArundelPop)\n",
    "imputeSubset(hanover, hanoverPop / anneArundelPop)"
   ]
  },
  {
   "cell_type": "code",
   "execution_count": 11,
   "id": "hungarian-casting",
   "metadata": {},
   "outputs": [],
   "source": [
    "def model(parameter):\n",
    "    X = joinedDF.drop([parameter], axis = 1)\n",
    "    y = joinedDF[parameter]\n",
    "    #Split\n",
    "    X_train, X_test, y_train, y_test = train_test_split(X, y, test_size = .30, random_state=42)\n",
    "    # train\n",
    "    lm_model = LinearRegression(normalize=True) # Instantiate\n",
    "    lm_model.fit(X_train, y_train) #Fit\n",
    "    # predict\n",
    "    y_test_preds = lm_model.predict(X_test)\n",
    "    y_train_preds = lm_model.predict(X_train)\n",
    "    #score\n",
    "    test_score = r2_score(y_test, y_test_preds)\n",
    "    train_score = r2_score(y_train, y_train_preds)\n",
    "    print(\"The rsquared on the training data was {}.  The rsquared on the test data was {}.\".format(train_score, test_score))\n",
    "    \n",
    "    columbiaDropped = columbia.drop([parameter], axis = 1)\n",
    "    odentonDropped =odenton.drop([parameter], axis = 1)\n",
    "    glen_burnieDropped = glen_burnie.drop([parameter], axis = 1)\n",
    "    hanoverDropped = hanover.drop([parameter], axis = 1)\n",
    "    \n",
    "    columbiaVal = lm_model.predict(columbiaDropped)[0] / columbiaPop\n",
    "    odentonVal = lm_model.predict(odentonDropped)[0] / odentonPop\n",
    "    glen_burnieVal = lm_model.predict(glen_burnieDropped)[0] / glen_burniePop\n",
    "    hanoverVal = lm_model.predict(hanoverDropped)[0] / hanoverPop\n",
    "    \n",
    "    \n",
    "    \n",
    "    return [columbiaVal, odentonVal,glen_burnieVal,hanoverVal]"
   ]
  },
  {
   "cell_type": "code",
   "execution_count": 49,
   "id": "continuing-poster",
   "metadata": {},
   "outputs": [
    {
     "name": "stdout",
     "output_type": "stream",
     "text": [
      "          City\n",
      "0     Columbia\n",
      "1      Odenton\n",
      "2  Glen Burnie\n",
      "3      Hanover\n"
     ]
    }
   ],
   "source": [
    "results = pd.DataFrame({'City' : [\"Columbia\", \"Odenton\", \"Glen Burnie\", \"Hanover\"]})\n",
    "results.set_index('City')\n",
    "print(results)"
   ]
  },
  {
   "cell_type": "code",
   "execution_count": 51,
   "id": "mediterranean-scene",
   "metadata": {},
   "outputs": [
    {
     "name": "stdout",
     "output_type": "stream",
     "text": [
      "The rsquared on the training data was 0.9737065267173043.  The rsquared on the test data was 0.753872589148916.\n"
     ]
    }
   ],
   "source": [
    "results.insert(1, \"RAPE\", model(\"RAPE\"))"
   ]
  },
  {
   "cell_type": "code",
   "execution_count": 39,
   "id": "driven-inquiry",
   "metadata": {},
   "outputs": [
    {
     "name": "stdout",
     "output_type": "stream",
     "text": [
      "The rsquared on the training data was 0.9645003667752634.  The rsquared on the test data was 0.4653371050653894.\n"
     ]
    }
   ],
   "source": [
    "results.insert(1, \"ARSON\", model(\"ARSON\"))"
   ]
  },
  {
   "cell_type": "code",
   "execution_count": 40,
   "id": "quiet-hunger",
   "metadata": {},
   "outputs": [
    {
     "name": "stdout",
     "output_type": "stream",
     "text": [
      "The rsquared on the training data was 0.9999999481909914.  The rsquared on the test data was 0.9999999142417683.\n"
     ]
    }
   ],
   "source": [
    "results.insert(1, \"MVTHEFT\", model(\"MVTHEFT\"))"
   ]
  },
  {
   "cell_type": "code",
   "execution_count": 41,
   "id": "lesbian-engagement",
   "metadata": {},
   "outputs": [
    {
     "name": "stdout",
     "output_type": "stream",
     "text": [
      "The rsquared on the training data was 0.9999999978101389.  The rsquared on the test data was 0.9999999973535421.\n"
     ]
    }
   ],
   "source": [
    "results.insert(1, \"LARCENY\", model(\"LARCENY\"))"
   ]
  },
  {
   "cell_type": "code",
   "execution_count": 42,
   "id": "equal-british",
   "metadata": {},
   "outputs": [
    {
     "name": "stdout",
     "output_type": "stream",
     "text": [
      "The rsquared on the training data was 0.9999999821462915.  The rsquared on the test data was 0.9999999779080821.\n"
     ]
    }
   ],
   "source": [
    "results.insert(1, \"BURGLRY\", model(\"BURGLRY\"))"
   ]
  },
  {
   "cell_type": "code",
   "execution_count": 43,
   "id": "biblical-runner",
   "metadata": {},
   "outputs": [
    {
     "name": "stdout",
     "output_type": "stream",
     "text": [
      "The rsquared on the training data was 0.9851289520684211.  The rsquared on the test data was 0.8622814901800752.\n"
     ]
    }
   ],
   "source": [
    "results.insert(1, \"AGASSLT\", model(\"AGASSLT\"))"
   ]
  },
  {
   "cell_type": "code",
   "execution_count": 44,
   "id": "executed-deviation",
   "metadata": {},
   "outputs": [
    {
     "name": "stdout",
     "output_type": "stream",
     "text": [
      "The rsquared on the training data was 0.9958604080029856.  The rsquared on the test data was 0.9080449923194127.\n"
     ]
    }
   ],
   "source": [
    "results.insert(1, \"ROBBERY\", model(\"ROBBERY\"))"
   ]
  },
  {
   "cell_type": "code",
   "execution_count": 45,
   "id": "characteristic-economics",
   "metadata": {},
   "outputs": [
    {
     "data": {
      "text/plain": [
       "array([[<AxesSubplot:title={'center':'ROBBERY'}>,\n",
       "        <AxesSubplot:title={'center':'AGASSLT'}>,\n",
       "        <AxesSubplot:title={'center':'BURGLRY'}>],\n",
       "       [<AxesSubplot:title={'center':'LARCENY'}>,\n",
       "        <AxesSubplot:title={'center':'MVTHEFT'}>,\n",
       "        <AxesSubplot:title={'center':'ARSON'}>],\n",
       "       [<AxesSubplot:title={'center':'RAPE'}>, <AxesSubplot:>,\n",
       "        <AxesSubplot:>]], dtype=object)"
      ]
     },
     "execution_count": 45,
     "metadata": {},
     "output_type": "execute_result"
    },
    {
     "data": {
      "image/png": "[encoded data removed]",
      "text/plain": [
       "<Figure size 432x288 with 9 Axes>"
      ]
     },
     "metadata": {
      "needs_background": "light"
     },
     "output_type": "display_data"
    }
   ],
   "source": [
    "results.hist()"
   ]
  },
  {
   "cell_type": "code",
   "execution_count": 46,
   "id": "shared-hypothesis",
   "metadata": {
    "scrolled": true
   },
   "outputs": [
    {
     "name": "stdout",
     "output_type": "stream",
     "text": [
      "          City       ROBBERY       AGASSLT       BURGLRY       LARCENY  \\\n",
      "0     Columbia -1.658433e+08  4.955006e+09 -8.461799e+06 -5.277940e+06   \n",
      "1      Odenton -5.617129e+08  1.678265e+10 -2.866019e+07 -1.787643e+07   \n",
      "2  Glen Burnie -3.188627e+08  9.526864e+09 -1.626929e+07 -1.014776e+07   \n",
      "3      Hanover -1.912389e+09  5.713767e+10 -9.757556e+07 -6.086151e+07   \n",
      "\n",
      "        MVTHEFT         ARSON          RAPE  \n",
      "0 -5.365160e+06 -3.451570e+08 -2.219653e+08  \n",
      "1 -1.817185e+07 -1.169050e+09 -7.517985e+08  \n",
      "2 -1.031546e+07 -6.636246e+08 -4.267670e+08  \n",
      "3 -6.186728e+07 -3.980110e+09 -2.559548e+09  \n"
     ]
    }
   ],
   "source": [
    "print(results)"
   ]
  },
  {
   "cell_type": "code",
   "execution_count": 48,
   "id": "after-insider",
   "metadata": {},
   "outputs": [
    {
     "data": {
      "text/plain": [
       "0    4.202936e+09\n",
       "1    1.423538e+10\n",
       "2    8.080877e+09\n",
       "3    4.846532e+10\n",
       "dtype: float64"
      ]
     },
     "execution_count": 48,
     "metadata": {},
     "output_type": "execute_result"
    }
   ],
   "source": [
    "results.sum(axis= 1)"
   ]
  },
  {
   "cell_type": "code",
   "execution_count": null,
   "id": "tight-exhibit",
   "metadata": {},
   "outputs": [],
   "source": []
  },
  {
   "cell_type": "code",
   "execution_count": null,
   "id": "quantitative-village",
   "metadata": {},
   "outputs": [],
   "source": []
  },
  {
   "cell_type": "code",
   "execution_count": null,
   "id": "copyrighted-holder",
   "metadata": {},
   "outputs": [],
   "source": []
  }
 ],
 "metadata": {
  "kernelspec": {
   "display_name": "Python 3",
   "language": "python",
   "name": "python3"
  },
  "language_info": {
   "codemirror_mode": {
    "name": "ipython",
    "version": 3
   },
   "file_extension": ".py",
   "mimetype": "text/x-python",
   "name": "python",
   "nbconvert_exporter": "python",
   "pygments_lexer": "ipython3",
   "version": "3.8.5"
  }
 },
 "nbformat": 4,
 "nbformat_minor": 5
}
